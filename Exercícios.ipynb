{
  "nbformat": 4,
  "nbformat_minor": 0,
  "metadata": {
    "colab": {
      "provenance": [],
      "authorship_tag": "ABX9TyMqhok9S1+asVNCAF/ST06G",
      "include_colab_link": true
    },
    "kernelspec": {
      "name": "python3",
      "display_name": "Python 3"
    },
    "language_info": {
      "name": "python"
    }
  },
  "cells": [
    {
      "cell_type": "markdown",
      "metadata": {
        "id": "view-in-github",
        "colab_type": "text"
      },
      "source": [
        "<a href=\"https://colab.research.google.com/github/mvirgilios/DataScience/blob/main/Exerc%C3%ADcios.ipynb\" target=\"_parent\"><img src=\"https://colab.research.google.com/assets/colab-badge.svg\" alt=\"Open In Colab\"/></a>"
      ]
    },
    {
      "cell_type": "markdown",
      "source": [
        "#Alguns exercícios e práticas\n",
        "Curso em Vídeo (Gustavo Guanabara)"
      ],
      "metadata": {
        "id": "lvnIxq_pXdJW"
      }
    },
    {
      "cell_type": "code",
      "execution_count": null,
      "metadata": {
        "id": "Pz3yip_JXcXd"
      },
      "outputs": [],
      "source": [
        "nome = input(\"Como você se chama?\")\n",
        "ano = input('Em que ano você nasceu?')\n",
        "mês = input('E em que mês?')\n",
        "dia = input('Por último: em que dia do mês?')\n",
        "print('Boa tarde,',nome,'!', 'Então seu aniversário é',dia,'/',mês,'/',ano,', correto?')"
      ]
    }
  ]
}